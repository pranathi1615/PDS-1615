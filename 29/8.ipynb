{
  "nbformat": 4,
  "nbformat_minor": 0,
  "metadata": {
    "colab": {
      "provenance": [],
      "authorship_tag": "ABX9TyOSZSoj0ZDcEHu5zh4EXcV8",
      "include_colab_link": true
    },
    "kernelspec": {
      "name": "python3",
      "display_name": "Python 3"
    },
    "language_info": {
      "name": "python"
    }
  },
  "cells": [
    {
      "cell_type": "markdown",
      "metadata": {
        "id": "view-in-github",
        "colab_type": "text"
      },
      "source": [
        "<a href=\"https://colab.research.google.com/github/pranathi1615/PDS-1615/blob/main/29/8.ipynb\" target=\"_parent\"><img src=\"https://colab.research.google.com/assets/colab-badge.svg\" alt=\"Open In Colab\"/></a>"
      ]
    },
    {
      "cell_type": "code",
      "execution_count": 21,
      "metadata": {
        "colab": {
          "base_uri": "https://localhost:8080/"
        },
        "id": "AFGvRyYG6eOL",
        "outputId": "23b1abe1-dec8-4cc5-c98b-f965ae695d33"
      },
      "outputs": [
        {
          "output_type": "stream",
          "name": "stdout",
          "text": [
            "0    10\n",
            "1    20\n",
            "2    30\n",
            "3    40\n",
            "4    50\n",
            "dtype: int64\n"
          ]
        }
      ],
      "source": [
        "import pandas as pd\n",
        "data=[10,20,30,40,50]\n",
        "series=pd.Series(data)\n",
        "print(series)\n"
      ]
    },
    {
      "cell_type": "code",
      "source": [
        "#Custom index\n",
        "import pandas as pd\n",
        "data=[10,20,30,40,50]\n",
        "index_labels=['a','b','c','d','e']\n",
        "series=pd.Series(data,index=index_labels)\n",
        "print(\"Pandas Series\")\n",
        "print(series)"
      ],
      "metadata": {
        "colab": {
          "base_uri": "https://localhost:8080/"
        },
        "id": "kWq8zq3b8NVe",
        "outputId": "fc1310ac-d440-458d-b2d0-ececf446118b"
      },
      "execution_count": 10,
      "outputs": [
        {
          "output_type": "stream",
          "name": "stdout",
          "text": [
            "Pandas Series\n",
            "a    10\n",
            "b    20\n",
            "c    30\n",
            "d    40\n",
            "e    50\n",
            "dtype: int64\n"
          ]
        }
      ]
    },
    {
      "cell_type": "code",
      "source": [
        "#data Frame\n",
        "import pandas as pd\n",
        "data={\n",
        "    'Name':['Alice','Bob','Charlie','pranathi'],\n",
        "    'Age':[25,30,35,40],\n",
        "    'City':['New York','San Francisco','Los Angeles','ap']\n",
        "}\n",
        "df=pd.DataFrame(data)\n",
        "print(df)\n",
        "#accessing a single column\n",
        "print(df['Name'])\n",
        "#accessing a multiple column\n",
        "print(df[['Name','City']])\n",
        "#Acess rows using index\n",
        "print(df.iloc[1])\n",
        "print(df.loc[2])\n",
        "#Adding a new column\n",
        "df['Salary']=[40000,45000,3000,20000]\n",
        "print(df)\n",
        "#removing a column\n",
        "df=df.drop('City',axis=1)\n",
        "print(df)\n",
        "#Filtering data\n",
        "print(df['Age']>30)\n",
        "print(df['Age'].mean())\n",
        "print(df['Age'].max())\n",
        "print(df['Age'].min())\n"
      ],
      "metadata": {
        "colab": {
          "base_uri": "https://localhost:8080/"
        },
        "id": "RF2lHEp29wuB",
        "outputId": "de43a0e4-8ed4-4ec8-fdbb-ee885c6247da"
      },
      "execution_count": 20,
      "outputs": [
        {
          "output_type": "stream",
          "name": "stdout",
          "text": [
            "       Name  Age           City\n",
            "0     Alice   25       New York\n",
            "1       Bob   30  San Francisco\n",
            "2   Charlie   35    Los Angeles\n",
            "3  pranathi   40             ap\n",
            "0       Alice\n",
            "1         Bob\n",
            "2     Charlie\n",
            "3    pranathi\n",
            "Name: Name, dtype: object\n",
            "       Name           City\n",
            "0     Alice       New York\n",
            "1       Bob  San Francisco\n",
            "2   Charlie    Los Angeles\n",
            "3  pranathi             ap\n",
            "Name              Bob\n",
            "Age                30\n",
            "City    San Francisco\n",
            "Name: 1, dtype: object\n",
            "Name        Charlie\n",
            "Age              35\n",
            "City    Los Angeles\n",
            "Name: 2, dtype: object\n",
            "       Name  Age           City  Salary\n",
            "0     Alice   25       New York   40000\n",
            "1       Bob   30  San Francisco   45000\n",
            "2   Charlie   35    Los Angeles    3000\n",
            "3  pranathi   40             ap   20000\n",
            "       Name  Age  Salary\n",
            "0     Alice   25   40000\n",
            "1       Bob   30   45000\n",
            "2   Charlie   35    3000\n",
            "3  pranathi   40   20000\n",
            "0    False\n",
            "1    False\n",
            "2     True\n",
            "3     True\n",
            "Name: Age, dtype: bool\n",
            "32.5\n",
            "40\n",
            "25\n"
          ]
        }
      ]
    },
    {
      "cell_type": "code",
      "source": [
        "student_data={\n",
        "    'Student_ID':[1,2,3,4],\n",
        "    'Name':['Alice','Bob','Charlie','David'],\n",
        "    'Marks':[85,92,78,95,],\n",
        "    'Department':['cse','ece','eee','mech']\n",
        "}\n",
        "df=pd.DataFrame(student_data)\n",
        "print(df)"
      ],
      "metadata": {
        "colab": {
          "base_uri": "https://localhost:8080/"
        },
        "id": "oCdTBeU_CnwE",
        "outputId": "0e955d3c-b786-4016-f5af-77befc3e03fc"
      },
      "execution_count": 23,
      "outputs": [
        {
          "output_type": "stream",
          "name": "stdout",
          "text": [
            "   Student_ID     Name  Marks Department\n",
            "0           1    Alice     85        cse\n",
            "1           2      Bob     92        ece\n",
            "2           3  Charlie     78        eee\n",
            "3           4    David     95       mech\n"
          ]
        }
      ]
    },
    {
      "cell_type": "code",
      "source": [
        "import pandas as pd\n",
        "data = {\n",
        "    's-name': ['pranathi', 'archana', 'suppuriya', 'vaishnavi', 'karthika'],\n",
        "    's-rollno': [1245, 1369, 1111, 1654, 2199],\n",
        "    'm1': [20, 15, 17, 18, 2],\n",
        "    'm2': [16, 8, 18, 15, 18],\n",
        "    'm3': [15, 3, 5, 17, 18]\n",
        "}\n",
        "df = pd.DataFrame(data)\n",
        "df['Total'] = df[['m1', 'm2', 'm3']].sum(axis=1)\n",
        "df['Average'] = df[['m1', 'm2', 'm3']].mean(axis=1).round(2)\n",
        "df['Grade'] = df['Average'].apply(lambda x: 'A' if x >= 17 else ('B' if x >= 15 else 'C'))\n",
        "print(df)"
      ],
      "metadata": {
        "colab": {
          "base_uri": "https://localhost:8080/"
        },
        "id": "wYgkpCCnIWuk",
        "outputId": "6c24454b-b8ad-45c2-d1dc-8c6ef6f5f841"
      },
      "execution_count": 28,
      "outputs": [
        {
          "output_type": "stream",
          "name": "stdout",
          "text": [
            "      s-name  s-rollno  m1  m2  m3  Total  Average Grade\n",
            "0   pranathi      1245  20  16  15     51    17.00     A\n",
            "1    archana      1369  15   8   3     26     8.67     C\n",
            "2  suppuriya      1111  17  18   5     40    13.33     C\n",
            "3  vaishnavi      1654  18  15  17     50    16.67     B\n",
            "4   karthika      2199   2  18  18     38    12.67     C\n"
          ]
        }
      ]
    }
  ]
}