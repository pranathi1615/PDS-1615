{
  "nbformat": 4,
  "nbformat_minor": 0,
  "metadata": {
    "colab": {
      "provenance": [],
      "authorship_tag": "ABX9TyOoha9zwYGFBbuXgZZF7yap",
      "include_colab_link": true
    },
    "kernelspec": {
      "name": "python3",
      "display_name": "Python 3"
    },
    "language_info": {
      "name": "python"
    }
  },
  "cells": [
    {
      "cell_type": "markdown",
      "metadata": {
        "id": "view-in-github",
        "colab_type": "text"
      },
      "source": [
        "<a href=\"https://colab.research.google.com/github/pranathi1615/PDS-1615/blob/main/lab(22-8).ipynb\" target=\"_parent\"><img src=\"https://colab.research.google.com/assets/colab-badge.svg\" alt=\"Open In Colab\"/></a>"
      ]
    },
    {
      "cell_type": "code",
      "execution_count": 9,
      "metadata": {
        "colab": {
          "base_uri": "https://localhost:8080/"
        },
        "id": "ELbC42Pc89m5",
        "outputId": "d4131eb5-08f7-48f8-d560-4d74ac196a37"
      },
      "outputs": [
        {
          "output_type": "execute_result",
          "data": {
            "text/plain": [
              "12"
            ]
          },
          "metadata": {},
          "execution_count": 9
        }
      ],
      "source": [
        "fp=open(\"example.txt\",\"w\")\n",
        "fp.write(\"Hello,B.Tech students!\\n\")\n",
        "fp.write(\"sR university\")\n",
        "fp.write(\"suresh kumar\")"
      ]
    },
    {
      "cell_type": "code",
      "source": [
        "fp.write(\"Hello btech students!\\n\")\n",
        "fp.write(\"This is file handling in python.\\n\")\n",
        "fp.write(\"Sr University\")\n",
        "fp.write(\"sateesh kumar\")\n",
        "fp.close()\n",
        "print(\"file written sucessfully\")\n"
      ],
      "metadata": {
        "colab": {
          "base_uri": "https://localhost:8080/"
        },
        "id": "ggB4dQ1o9MVP",
        "outputId": "bea44ffa-f38b-4758-de7a-a7cbb36b66de"
      },
      "execution_count": 10,
      "outputs": [
        {
          "output_type": "stream",
          "name": "stdout",
          "text": [
            "file written sucessfully\n"
          ]
        }
      ]
    },
    {
      "cell_type": "code",
      "source": [
        "#Reading from a file\n",
        "#open file in read mode\n",
        "file=open(\"example.txt\",\"r\")\n",
        "#read entire content\n",
        "content=file.read()\n",
        "print(\"file content:\\n\",content)\n",
        "#close file\n",
        "file.close()\n",
        "#read line by line\n",
        "file=open(\"example.txt\",\"r\")\n",
        "line1=file.readline()\n",
        "print(\"firstline:\",line1)\n",
        "line2=file.readline()\n",
        "print(\"secondline:\",line2)\n",
        "line3=file.readline()\n",
        "print(\"Line:\",line3)\n",
        "file.close()"
      ],
      "metadata": {
        "colab": {
          "base_uri": "https://localhost:8080/"
        },
        "id": "vQV6sgZ-9R4u",
        "outputId": "eb8e9523-0f4a-40a9-f79c-cb712288ffb3"
      },
      "execution_count": 8,
      "outputs": [
        {
          "output_type": "stream",
          "name": "stdout",
          "text": [
            "file content:\n",
            " Hello,B.Tech students!\n",
            "sR universitysuresh kumarHello btech students!\n",
            "This is file handling in python.\n",
            "Sr Universitysateesh kumarAppending new data...\n",
            "\n",
            "firstline: Hello,B.Tech students!\n",
            "\n",
            "secondline: sR universitysuresh kumarHello btech students!\n",
            "\n",
            "Line: This is file handling in python.\n",
            "\n"
          ]
        }
      ]
    },
    {
      "cell_type": "code",
      "source": [
        "file=open(\"example.txt\",\"r\")\n",
        "lines=file.readlines()\n",
        "print(\"All lines as list:\",lines)\n",
        "file.close()"
      ],
      "metadata": {
        "colab": {
          "base_uri": "https://localhost:8080/"
        },
        "id": "Ic5D5aLe-rn7",
        "outputId": "8906ad48-c0a4-4b2e-9206-b8585a056061"
      },
      "execution_count": 5,
      "outputs": [
        {
          "output_type": "stream",
          "name": "stdout",
          "text": [
            "All lines as list: ['Hello,B.Tech students!\\n', 'sR universitysuresh kumarHello btech students!\\n', 'This is file handling in python.\\n', 'Sr Universitysateesh kumar']\n"
          ]
        }
      ]
    },
    {
      "cell_type": "code",
      "source": [
        "#appending data to an exisitoing file\n",
        "file=open(\"example.txt\",\"a\")\n",
        "file.write(\"Appending new data...\\n\")\n",
        "file.close()\n"
      ],
      "metadata": {
        "id": "vyNWcnwA_Nzv"
      },
      "execution_count": 7,
      "outputs": []
    },
    {
      "cell_type": "code",
      "source": [
        "#using with statement\n",
        "with open(\"example.txt\",\"r\") as fp:\n",
        "  data=fp.read()\n",
        "  print(data)"
      ],
      "metadata": {
        "colab": {
          "base_uri": "https://localhost:8080/"
        },
        "id": "4lpzYqkT_XXq",
        "outputId": "0b146438-f4b8-4253-8591-4274e96bef42"
      },
      "execution_count": 11,
      "outputs": [
        {
          "output_type": "stream",
          "name": "stdout",
          "text": [
            "Hello,B.Tech students!\n",
            "sR universitysuresh kumarHello btech students!\n",
            "This is file handling in python.\n",
            "Sr Universitysateesh kumar\n"
          ]
        }
      ]
    },
    {
      "cell_type": "code",
      "source": [
        "#workin g with csv files\n",
        "import csv\n",
        "with open(\"data.csv\",\"w\",newline='')as fp:\n",
        "  wr=csv.writer(fp)\n",
        "  wr.writerows([[\"Name\",\"age\",\"course\"],[\"aaa\",21,\"CSE\"],[\"bbb\",20,\"ECE\"]])\n",
        "  #reading with csv\n",
        "with open(\"data.csv\",\"r\")as file:\n",
        "    re= csv.reader(file)\n",
        "    for row in re:\n",
        "      print(row)\n",
        ""
      ],
      "metadata": {
        "colab": {
          "base_uri": "https://localhost:8080/"
        },
        "id": "Nddpbt1ZBHVJ",
        "outputId": "52414bc7-ce38-4a3e-bbee-a7b1c66066d8"
      },
      "execution_count": 20,
      "outputs": [
        {
          "output_type": "stream",
          "name": "stdout",
          "text": [
            "['Name', 'age', 'course']\n",
            "['aaa', '21', 'CSE']\n",
            "['bbb', '20', 'ECE']\n"
          ]
        }
      ]
    },
    {
      "cell_type": "code",
      "source": [
        "import numpy as np\n",
        "#1D Array\n",
        "arr1=np.array([1,2,3,4])\n",
        "print(arr1)\n",
        "#2D Array\n",
        "arr2=np.array([[1,2,3],[4,5,6]])\n",
        "print(arr2)\n",
        "#zero arrays\n",
        "z_arr=np.zeros((3,3))\n",
        "print(z_arr)\n",
        "#ones array\n",
        "ones_arr=np.ones((2,4))\n",
        "print(ones_arr)\n",
        "#range of numbers\n",
        "range_arr=np.arange(0,10,2)\n",
        "print(range_arr)\n",
        "rand_arr=np.random.rand(2,3)\n",
        "print(rand_arr)\n"
      ],
      "metadata": {
        "colab": {
          "base_uri": "https://localhost:8080/"
        },
        "id": "fKSXW9QrD-xQ",
        "outputId": "fb7f762c-e432-49fa-b151-c2e4de570411"
      },
      "execution_count": 29,
      "outputs": [
        {
          "output_type": "stream",
          "name": "stdout",
          "text": [
            "[1 2 3 4]\n",
            "[[1 2 3]\n",
            " [4 5 6]]\n",
            "[[0. 0. 0.]\n",
            " [0. 0. 0.]\n",
            " [0. 0. 0.]]\n",
            "[[1. 1. 1. 1.]\n",
            " [1. 1. 1. 1.]]\n",
            "[0 2 4 6 8]\n",
            "[[0.6030899  0.88952492 0.23836314]\n",
            " [0.16393423 0.57894267 0.37118673]]\n"
          ]
        }
      ]
    },
    {
      "cell_type": "code",
      "source": [
        "arr=np.array([[1,2,3],[4,5,6]])\n",
        "print(arr.shape)\n",
        "print(arr.ndim)\n",
        "print(arr.dtype)\n",
        "print(arr.size)\n",
        "print(arr.itemsize)"
      ],
      "metadata": {
        "colab": {
          "base_uri": "https://localhost:8080/"
        },
        "id": "xhunQCF3G7Og",
        "outputId": "13039d9b-faca-4bfd-ef5c-e68a805404f7"
      },
      "execution_count": 32,
      "outputs": [
        {
          "output_type": "stream",
          "name": "stdout",
          "text": [
            "(2, 3)\n",
            "2\n",
            "int64\n",
            "6\n",
            "8\n"
          ]
        }
      ]
    },
    {
      "cell_type": "code",
      "source": [
        "a=np.array([10,20,30,40,50])\n",
        "print(\"first element:\",a[0])\n",
        "print(\"last element:\",a[-1])\n",
        "print(\"slice[1:4]:\",a[1:4])\n",
        "print(\"every second element:\",a[::2])\n",
        "#2D indexing\n",
        "arr2=np.array([[1,2,3],[4,5,6]])\n",
        "print(\"element at r1 col 2:\",arr2[0,1])\n",
        "print(\"second row\",arr2[1,:])\n",
        "print(\"second column:\",arr2[:,1])"
      ],
      "metadata": {
        "colab": {
          "base_uri": "https://localhost:8080/"
        },
        "id": "lCcaxJWnK24x",
        "outputId": "b2840943-232c-4a64-95c2-87c0419a4f74"
      },
      "execution_count": 35,
      "outputs": [
        {
          "output_type": "stream",
          "name": "stdout",
          "text": [
            "first element: 10\n",
            "last element: 50\n",
            "slice[1:4]: [20 30 40]\n",
            "every second element: [10 30 50]\n",
            "element at r1 col 2: 2\n",
            "second row [4 5 6]\n",
            "second column: [2 5]\n"
          ]
        }
      ]
    }
  ]
}