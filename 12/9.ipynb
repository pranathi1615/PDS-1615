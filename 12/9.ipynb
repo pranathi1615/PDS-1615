{
  "nbformat": 4,
  "nbformat_minor": 0,
  "metadata": {
    "colab": {
      "provenance": [],
      "authorship_tag": "ABX9TyMRkXiOmcLDSAiAcqvPkOd4",
      "include_colab_link": true
    },
    "kernelspec": {
      "name": "python3",
      "display_name": "Python 3"
    },
    "language_info": {
      "name": "python"
    }
  },
  "cells": [
    {
      "cell_type": "markdown",
      "metadata": {
        "id": "view-in-github",
        "colab_type": "text"
      },
      "source": [
        "<a href=\"https://colab.research.google.com/github/pranathi1615/PDS-1615/blob/main/12/9.ipynb\" target=\"_parent\"><img src=\"https://colab.research.google.com/assets/colab-badge.svg\" alt=\"Open In Colab\"/></a>"
      ]
    },
    {
      "cell_type": "code",
      "execution_count": 2,
      "metadata": {
        "colab": {
          "base_uri": "https://localhost:8080/"
        },
        "id": "5LqTKCWfDne1",
        "outputId": "9d22f782-efff-464c-d624-0a07490a9cc7"
      },
      "outputs": [
        {
          "output_type": "stream",
          "name": "stdout",
          "text": [
            "Orginal DataFrame:\n",
            "       Name   Age  Marks\n",
            "0      Ravi  25.0   85.0\n",
            "1  Pranathi   NaN   90.0\n",
            "2     priya  30.0    NaN\n",
            "3      sita  28.0   92.0\n",
            "    Name    Age  Marks\n",
            "0  False  False  False\n",
            "1  False   True  False\n",
            "2  False  False   True\n",
            "3  False  False  False\n"
          ]
        }
      ],
      "source": [
        "import pandas as pd\n",
        "import numpy as np\n",
        "data={\n",
        "    'Name':['Ravi','Pranathi','priya','sita'],\n",
        "    'Age':[25,np.nan,30,28],\n",
        "    'Marks':[85,90,np.nan,92]\n",
        "}\n",
        "df=pd.DataFrame(data)\n",
        "print(\"Orginal DataFrame:\")\n",
        "print(df)\n",
        "#detect missing values\n",
        "print(df.isnull())"
      ]
    },
    {
      "cell_type": "code",
      "source": [
        "#dropping missing values\n",
        "df_dropped=df.dropna()\n",
        "print(df_dropped)"
      ],
      "metadata": {
        "colab": {
          "base_uri": "https://localhost:8080/"
        },
        "id": "LHSHA5AJGc-O",
        "outputId": "cbe36529-448a-4017-f4e3-81cb8318061e"
      },
      "execution_count": 3,
      "outputs": [
        {
          "output_type": "stream",
          "name": "stdout",
          "text": [
            "   Name   Age  Marks\n",
            "0  Ravi  25.0   85.0\n",
            "3  sita  28.0   92.0\n"
          ]
        }
      ]
    },
    {
      "cell_type": "code",
      "source": [
        "df_filled=df.fillna(0)\n",
        "print(df_filled)\n",
        "df['Age']=df['Age'].fillna(df['Age'].mean())\n",
        "df['Marks']=df['Marks'].fillna(df['Marks'].mean())\n",
        "print(df)"
      ],
      "metadata": {
        "colab": {
          "base_uri": "https://localhost:8080/"
        },
        "id": "exHahdh4IOGF",
        "outputId": "c1186cc3-c066-4f4a-931a-3716883e9dfb"
      },
      "execution_count": 4,
      "outputs": [
        {
          "output_type": "stream",
          "name": "stdout",
          "text": [
            "       Name   Age  Marks\n",
            "0      Ravi  25.0   85.0\n",
            "1  Pranathi   0.0   90.0\n",
            "2     priya  30.0    0.0\n",
            "3      sita  28.0   92.0\n",
            "       Name        Age  Marks\n",
            "0      Ravi  25.000000   85.0\n",
            "1  Pranathi  27.666667   90.0\n",
            "2     priya  30.000000   89.0\n",
            "3      sita  28.000000   92.0\n"
          ]
        }
      ]
    },
    {
      "cell_type": "code",
      "source": [
        "#removing duplicates\n",
        "import pandas as pd\n",
        "import numpy as np\n",
        "data={\n",
        "    'Name':['Ravi','Neha','kiran','sita'],\n",
        "    'age':[25,np.nan,30,28],\n",
        "    'marks':[85,90,np.nan,92]\n",
        "}\n",
        "df=pd.DataFrame(data)\n",
        "print(df)\n",
        "df_no_dup=df.drop_duplicates()\n",
        "print(df_no_dup)"
      ],
      "metadata": {
        "colab": {
          "base_uri": "https://localhost:8080/"
        },
        "id": "YVlFLIJxJvK3",
        "outputId": "d9bc1396-7a64-4c91-a4d7-f0d14e801da2"
      },
      "execution_count": 5,
      "outputs": [
        {
          "output_type": "stream",
          "name": "stdout",
          "text": [
            "    Name   age  marks\n",
            "0   Ravi  25.0   85.0\n",
            "1   Neha   NaN   90.0\n",
            "2  kiran  30.0    NaN\n",
            "3   sita  28.0   92.0\n",
            "    Name   age  marks\n",
            "0   Ravi  25.0   85.0\n",
            "1   Neha   NaN   90.0\n",
            "2  kiran  30.0    NaN\n",
            "3   sita  28.0   92.0\n"
          ]
        }
      ]
    },
    {
      "cell_type": "code",
      "source": [
        "data={\n",
        "    'ID':['1','2','3','4'],\n",
        "    'Marks':[85,90,90,92]\n",
        "}\n",
        "df=pd.DataFrame(data)\n",
        "print(df.dtypes)\n",
        "df['ID']=pd.to_numeric(df['ID'])\n",
        "df['Marks']=pd.to_numeric(df['Marks'])\n",
        "print(df.dtypes)"
      ],
      "metadata": {
        "colab": {
          "base_uri": "https://localhost:8080/"
        },
        "id": "Fhw1EctvK3wN",
        "outputId": "756af0a9-eccc-4eba-d59c-c7591329fd35"
      },
      "execution_count": 6,
      "outputs": [
        {
          "output_type": "stream",
          "name": "stdout",
          "text": [
            "ID       object\n",
            "Marks     int64\n",
            "dtype: object\n",
            "ID       int64\n",
            "Marks    int64\n",
            "dtype: object\n"
          ]
        }
      ]
    },
    {
      "cell_type": "code",
      "source": [
        "df['Marks']=df['Marks'].apply(lambda x:x+5)\n",
        "print(df)"
      ],
      "metadata": {
        "colab": {
          "base_uri": "https://localhost:8080/"
        },
        "id": "-7XhCaN6MdVZ",
        "outputId": "7db89eb4-1bf9-4b84-c418-6ed438b39d59"
      },
      "execution_count": 7,
      "outputs": [
        {
          "output_type": "stream",
          "name": "stdout",
          "text": [
            "   ID  Marks\n",
            "0   1     90\n",
            "1   2     95\n",
            "2   3     95\n",
            "3   4     97\n"
          ]
        }
      ]
    },
    {
      "cell_type": "code",
      "source": [
        "df['Marks_Normalized']=(df['Marks']-df['Marks'].min())/(df['Marks'].max()-df['Marks'].min())\n",
        "print(df)"
      ],
      "metadata": {
        "colab": {
          "base_uri": "https://localhost:8080/"
        },
        "id": "Y7_xKIi1NVD0",
        "outputId": "20fe0b1b-6c48-45d1-fed5-4fd945b8ef47"
      },
      "execution_count": 10,
      "outputs": [
        {
          "output_type": "stream",
          "name": "stdout",
          "text": [
            "   ID  Marks  Marks_Normalized\n",
            "0   1     85          0.000000\n",
            "1   2     90          0.714286\n",
            "2   3     90          0.714286\n",
            "3   4     92          1.000000\n"
          ]
        }
      ]
    },
    {
      "cell_type": "code",
      "source": [
        "import pandas as pd\n",
        "students=pd.DataFrame({\n",
        "    'Student_ID':[101,102,103,104],\n",
        "    'Name':['Ravi','Neha','Kiran','Sita']\n",
        "})\n",
        "#Marks Data\n",
        "marks=pd.DataFrame({\n",
        "    'Student_ID':[101,102,103,105],\n",
        "    'Marks':[85,90,78,88]\n",
        "})\n",
        "merged_df=pd.merge(students,marks,on='Student_ID')\n",
        "print(merged_df)"
      ],
      "metadata": {
        "colab": {
          "base_uri": "https://localhost:8080/"
        },
        "id": "1feMVllwPp3F",
        "outputId": "39716064-749e-4cce-ff1b-903d493abda2"
      },
      "execution_count": 12,
      "outputs": [
        {
          "output_type": "stream",
          "name": "stdout",
          "text": [
            "   Student_ID   Name  Marks\n",
            "0         101   Ravi     85\n",
            "1         102   Neha     90\n",
            "2         103  Kiran     78\n"
          ]
        }
      ]
    },
    {
      "cell_type": "code",
      "source": [
        "#Inner join\n",
        "inner=pd.merge(students,marks,on='Student_ID',how='inner')\n",
        "print(inner)\n",
        "#left join\n",
        "left=pd.merge(students,marks,on='Student_ID',how='left')\n",
        "print(left)\n",
        "#right join\n",
        "right=pd.merge(students,marks,on='Student_ID',how='right')\n",
        "print(right)\n",
        "#outer join\n",
        "outer=pd.merge(students,marks,on='Student_ID',how='outer')\n",
        "print(outer)"
      ],
      "metadata": {
        "colab": {
          "base_uri": "https://localhost:8080/"
        },
        "id": "zKpPuLHYQ5Om",
        "outputId": "a4799ece-36ac-41f4-cb30-90a77f41c308"
      },
      "execution_count": 15,
      "outputs": [
        {
          "output_type": "stream",
          "name": "stdout",
          "text": [
            "   Student_ID   Name  Marks\n",
            "0         101   Ravi     85\n",
            "1         102   Neha     90\n",
            "2         103  Kiran     78\n",
            "   Student_ID   Name  Marks\n",
            "0         101   Ravi   85.0\n",
            "1         102   Neha   90.0\n",
            "2         103  Kiran   78.0\n",
            "3         104   Sita    NaN\n",
            "   Student_ID   Name  Marks\n",
            "0         101   Ravi     85\n",
            "1         102   Neha     90\n",
            "2         103  Kiran     78\n",
            "3         105    NaN     88\n",
            "   Student_ID   Name  Marks\n",
            "0         101   Ravi   85.0\n",
            "1         102   Neha   90.0\n",
            "2         103  Kiran   78.0\n",
            "3         104   Sita    NaN\n",
            "4         105    NaN   88.0\n"
          ]
        }
      ]
    },
    {
      "cell_type": "code",
      "source": [],
      "metadata": {
        "id": "ytX6GwBNWgGs"
      },
      "execution_count": null,
      "outputs": []
    }
  ]
}